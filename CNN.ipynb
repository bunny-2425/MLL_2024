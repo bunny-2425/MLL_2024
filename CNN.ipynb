{
 "cells": [
  {
   "cell_type": "markdown",
   "metadata": {},
   "source": [
    "# CNN (convolutional neural network)"
   ]
  },
  {
   "cell_type": "code",
   "execution_count": 33,
   "metadata": {},
   "outputs": [],
   "source": [
    "import tensorflow as tf\n",
    "import matplotlib.pyplot as plt\n",
    "from tensorflow.keras import datasets,models, layers\n",
    "(train_images, train_labels), (test_images, test_labels) = datasets.cifar10.load_data()\n",
    "train_images, test_images = train_images / 255.0, test_images / 255.0"
   ]
  },
  {
   "cell_type": "code",
   "execution_count": 34,
   "metadata": {},
   "outputs": [
    {
     "data": {
      "text/plain": [
       "(50000, 32, 32, 3)"
      ]
     },
     "execution_count": 34,
     "metadata": {},
     "output_type": "execute_result"
    }
   ],
   "source": [
    "train_images.shape"
   ]
  },
  {
   "cell_type": "code",
   "execution_count": 35,
   "metadata": {},
   "outputs": [
    {
     "data": {
      "text/plain": [
       "array([[6],\n",
       "       [9],\n",
       "       [9],\n",
       "       [4],\n",
       "       [1]], dtype=uint8)"
      ]
     },
     "execution_count": 35,
     "metadata": {},
     "output_type": "execute_result"
    }
   ],
   "source": [
    "# This is 2D Array we need to convert this into 1D array\n",
    "train_labels[:5]"
   ]
  },
  {
   "cell_type": "code",
   "execution_count": 36,
   "metadata": {},
   "outputs": [
    {
     "data": {
      "text/plain": [
       "array([6, 9, 9, 4, 1, 1, 2, 7, 8, 3, 4, 7, 7, 2, 9, 9, 9, 3], dtype=uint8)"
      ]
     },
     "execution_count": 36,
     "metadata": {},
     "output_type": "execute_result"
    }
   ],
   "source": [
    "train_labels=train_labels.reshape(-1,)\n",
    "train_labels[:18]"
   ]
  },
  {
   "cell_type": "code",
   "execution_count": 37,
   "metadata": {},
   "outputs": [],
   "source": [
    "classes = ['airplane','automobile','bird','cat','deer','dog','frog','horse','ship','truck']"
   ]
  },
  {
   "cell_type": "code",
   "execution_count": 38,
   "metadata": {},
   "outputs": [
    {
     "data": {
      "text/plain": [
       "'truck'"
      ]
     },
     "execution_count": 38,
     "metadata": {},
     "output_type": "execute_result"
    }
   ],
   "source": [
    "classes[9]"
   ]
  },
  {
   "cell_type": "code",
   "execution_count": 39,
   "metadata": {},
   "outputs": [],
   "source": [
    "def plot_sample(x,y, index):\n",
    "    plt.figure(figsize=(15,2))\n",
    "    plt.imshow(x[index])\n",
    "    plt.xlabel(classes[y[index]])"
   ]
  },
  {
   "cell_type": "code",
   "execution_count": 40,
   "metadata": {},
   "outputs": [
    {
     "data": {
      "image/png": "[encoded data removed]",
      "text/plain": [
       "<Figure size 1500x200 with 1 Axes>"
      ]
     },
     "metadata": {},
     "output_type": "display_data"
    }
   ],
   "source": [
    "\n",
    "plot_sample(train_images,train_labels,0)"
   ]
  },
  {
   "cell_type": "code",
   "execution_count": 41,
   "metadata": {},
   "outputs": [
    {
     "data": {
      "text/plain": [
       "array([[[0.00090734, 0.00095348, 0.00096886],\n",
       "        [0.00066128, 0.00070742, 0.00069204],\n",
       "        [0.00076894, 0.00073818, 0.00066128],\n",
       "        ...,\n",
       "        [0.00242983, 0.00202999, 0.0016609 ],\n",
       "        [0.00233756, 0.00192234, 0.00156863],\n",
       "        [0.00227605, 0.00190696, 0.00158401]],\n",
       "\n",
       "       [[0.00024606, 0.00030757, 0.00030757],\n",
       "        [0.        , 0.        , 0.        ],\n",
       "        [0.00027682, 0.00012303, 0.        ],\n",
       "        ...,\n",
       "        [0.00189158, 0.00135333, 0.00084583],\n",
       "        [0.00183007, 0.00127643, 0.00076894],\n",
       "        [0.0018762 , 0.00133795, 0.00087659]],\n",
       "\n",
       "       [[0.00038447, 0.00036909, 0.00032295],\n",
       "        [0.00024606, 0.00010765, 0.        ],\n",
       "        [0.00075356, 0.00041522, 0.00012303],\n",
       "        ...,\n",
       "        [0.00181469, 0.00129181, 0.00076894],\n",
       "        [0.00184544, 0.00129181, 0.00076894],\n",
       "        [0.00167628, 0.00112265, 0.00064591]],\n",
       "\n",
       "       ...,\n",
       "\n",
       "       [[0.00319877, 0.00261438, 0.00147636],\n",
       "        [0.00309112, 0.00235294, 0.00052288],\n",
       "        [0.00304498, 0.00247597, 0.00039985],\n",
       "        ...,\n",
       "        [0.00246059, 0.00204537, 0.00107651],\n",
       "        [0.00086121, 0.00047674, 0.00010765],\n",
       "        [0.00081507, 0.00052288, 0.00030757]],\n",
       "\n",
       "       [[0.00276817, 0.00213764, 0.00147636],\n",
       "        [0.00266052, 0.00189158, 0.00064591],\n",
       "        [0.00286044, 0.00221453, 0.00046136],\n",
       "        ...,\n",
       "        [0.00282968, 0.00227605, 0.0014456 ],\n",
       "        [0.00149173, 0.00095348, 0.00052288],\n",
       "        [0.00127643, 0.00081507, 0.00052288]],\n",
       "\n",
       "       [[0.00272203, 0.00221453, 0.00178393],\n",
       "        [0.00258362, 0.00198385, 0.0014456 ],\n",
       "        [0.00275279, 0.00218378, 0.00133795],\n",
       "        ...,\n",
       "        [0.0033218 , 0.00282968, 0.00215302],\n",
       "        [0.00232218, 0.00181469, 0.00129181],\n",
       "        [0.00189158, 0.00141484, 0.00110727]]])"
      ]
     },
     "execution_count": 41,
     "metadata": {},
     "output_type": "execute_result"
    }
   ],
   "source": [
    "train_images[0]/255"
   ]
  },
  {
   "cell_type": "code",
   "execution_count": 42,
   "metadata": {},
   "outputs": [],
   "source": [
    "# Here we built the model for CNN \n",
    "cnn = models.Sequential([\n",
    "    layers.Conv2D(filters=32, kernel_size=(3, 3), activation='relu', input_shape=(32, 32, 3)),\n",
    "    layers.MaxPooling2D((2, 2)),                 # This layer is created for CNN\n",
    "    \n",
    "    layers.Conv2D(filters=64, kernel_size=(3, 3), activation='relu'),\n",
    "    layers.MaxPooling2D((2, 2)),                   # This layer is created for CNN\n",
    "    \n",
    "    layers.Flatten(),\n",
    "    layers.Dense(64, activation='relu'),\n",
    "    layers.Dense(10, activation='softmax')\n",
    "])"
   ]
  },
  {
   "cell_type": "code",
   "execution_count": 43,
   "metadata": {},
   "outputs": [],
   "source": [
    "# This compiles CNN and configure it for training\n",
    "cnn.compile(optimizer='adam',\n",
    "              loss='sparse_categorical_crossentropy', # Loss function is used to compile the errors during training\n",
    "              metrics=['accuracy'])            #evaluation metric(s) used to monitor the model's performance during training and testing"
   ]
  },
  {
   "cell_type": "code",
   "execution_count": 44,
   "metadata": {},
   "outputs": [
    {
     "name": "stdout",
     "output_type": "stream",
     "text": [
      "Epoch 1/10\n",
      "1563/1563 [==============================] - 39s 24ms/step - loss: 1.4408 - accuracy: 0.4826\n",
      "Epoch 2/10\n",
      "1563/1563 [==============================] - 32s 21ms/step - loss: 1.0853 - accuracy: 0.6207\n",
      "Epoch 3/10\n",
      "1563/1563 [==============================] - 29s 19ms/step - loss: 0.9509 - accuracy: 0.6680\n",
      "Epoch 4/10\n",
      "1563/1563 [==============================] - 30s 19ms/step - loss: 0.8586 - accuracy: 0.7020\n",
      "Epoch 5/10\n",
      "1563/1563 [==============================] - 29s 19ms/step - loss: 0.7918 - accuracy: 0.7252\n",
      "Epoch 6/10\n",
      "1563/1563 [==============================] - 31s 20ms/step - loss: 0.7286 - accuracy: 0.7459\n",
      "Epoch 7/10\n",
      "1563/1563 [==============================] - 29s 19ms/step - loss: 0.6830 - accuracy: 0.7622\n",
      "Epoch 8/10\n",
      "1563/1563 [==============================] - 28s 18ms/step - loss: 0.6377 - accuracy: 0.7769\n",
      "Epoch 9/10\n",
      "1563/1563 [==============================] - 29s 19ms/step - loss: 0.5910 - accuracy: 0.7928\n",
      "Epoch 10/10\n",
      "1563/1563 [==============================] - 28s 18ms/step - loss: 0.5511 - accuracy: 0.8083\n"
     ]
    },
    {
     "data": {
      "text/plain": [
       "<keras.src.callbacks.History at 0x230d21fccd0>"
      ]
     },
     "execution_count": 44,
     "metadata": {},
     "output_type": "execute_result"
    }
   ],
   "source": [
    "cnn.fit(train_images,train_labels, epochs=10)"
   ]
  },
  {
   "cell_type": "code",
   "execution_count": 45,
   "metadata": {},
   "outputs": [
    {
     "name": "stdout",
     "output_type": "stream",
     "text": [
      "1563/1563 [==============================] - 12s 8ms/step - loss: 0.4557 - accuracy: 0.8421\n"
     ]
    },
    {
     "data": {
      "text/plain": [
       "[0.4557395577430725, 0.8421000242233276]"
      ]
     },
     "execution_count": 45,
     "metadata": {},
     "output_type": "execute_result"
    }
   ],
   "source": [
    "cnn.evaluate(train_images,train_labels)"
   ]
  },
  {
   "cell_type": "code",
   "execution_count": null,
   "metadata": {},
   "outputs": [],
   "source": []
  }
 ],
 "metadata": {
  "kernelspec": {
   "display_name": "base",
   "language": "python",
   "name": "python3"
  },
  "language_info": {
   "codemirror_mode": {
    "name": "ipython",
    "version": 3
   },
   "file_extension": ".py",
   "mimetype": "text/x-python",
   "name": "python",
   "nbconvert_exporter": "python",
   "pygments_lexer": "ipython3",
   "version": "3.11.4"
  }
 },
 "nbformat": 4,
 "nbformat_minor": 2
}
